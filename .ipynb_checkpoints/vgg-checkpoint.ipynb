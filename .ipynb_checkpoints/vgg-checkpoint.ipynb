{
 "cells": [
  {
   "cell_type": "code",
   "execution_count": 34,
   "metadata": {},
   "outputs": [],
   "source": [
    "import matplotlib.pyplot as plt\n",
    "import numpy as np\n",
    "import tensorflow as tf\n",
    "from tensorflow.keras.preprocessing import image\n",
    "from tensorflow.keras.applications import VGG16\n",
    "from tensorflow.keras.models import Model\n",
    "from tensorflow.keras.layers import MaxPooling2D, GlobalAveragePooling2D\n",
    "from PIL import Image\n",
    "%matplotlib inline"
   ]
  },
  {
   "cell_type": "code",
   "execution_count": 35,
   "metadata": {
    "tags": []
   },
   "outputs": [],
   "source": [
    "model = VGG16(\n",
    "    include_top=False,\n",
    "    weights=\"imagenet\",\n",
    "    input_tensor=None,\n",
    "    input_shape=None,\n",
    "    pooling=None,\n",
    "    classes=1000,\n",
    "    classifier_activation=\"softmax\",\n",
    ")"
   ]
  },
  {
   "cell_type": "code",
   "execution_count": 36,
   "metadata": {
    "tags": []
   },
   "outputs": [],
   "source": [
    "def load_img(path_to_img, size=224):\n",
    "  img = image.load_img(path_to_img, target_size=(size,size))\n",
    "  data = image.img_to_array(img)\n",
    "  return data\n",
    "\n",
    "def show_img(img):\n",
    "  plt.imshow(img.astype('uint8'))\n",
    "\n",
    "def predict(model, img):\n",
    "  return model.predict(img[tf.newaxis, :])"
   ]
  },
  {
   "cell_type": "code",
   "execution_count": 11,
   "metadata": {
    "tags": []
   },
   "outputs": [],
   "source": [
    "# img = load_img('./sweater.jpg')\n",
    "# show_img(img)\n",
    "# print(predict(model, img))"
   ]
  },
  {
   "cell_type": "code",
   "execution_count": 12,
   "metadata": {
    "tags": []
   },
   "outputs": [],
   "source": [
    "# img = load_img('./hen-vs-rooster.jpg')\n",
    "# show_img(img)\n",
    "# print(predict(model, img))"
   ]
  },
  {
   "cell_type": "code",
   "execution_count": 16,
   "metadata": {
    "tags": []
   },
   "outputs": [],
   "source": [
    "# model.summary()"
   ]
  },
  {
   "cell_type": "code",
   "execution_count": 37,
   "metadata": {
    "tags": []
   },
   "outputs": [],
   "source": [
    "layers = [\n",
    "    'block1_pool', \n",
    "    'block2_pool',\n",
    "    'block3_pool',\n",
    "    'block4_pool',\n",
    "    'block5_pool'\n",
    "    ]\n",
    "# models = dict()\n",
    "# for n in names:\n",
    "#     models[n] = Model(inputs=model.input, outputs=model.get_layer(n).output)"
   ]
  },
  {
   "cell_type": "code",
   "execution_count": 18,
   "metadata": {
    "tags": []
   },
   "outputs": [],
   "source": [
    "# img = load_img('./hen-vs-rooster.jpg')\n",
    "\n",
    "# for k in models:\n",
    "#     preds = predict(models[k], img)\n",
    "#     print(k)\n",
    "#     print(preds.shape)\n",
    "#     avg_pool = np.mean(preds, axis=(1,2))\n",
    "#     max_pool = np.max(preds, axis=(1,2))\n",
    "#     print(k, 'avg', avg_pool.shape)\n",
    "#     print(k, 'max', max_pool.shape)"
   ]
  },
  {
   "cell_type": "code",
   "execution_count": 19,
   "metadata": {},
   "outputs": [],
   "source": [
    "# import glob\n",
    "\n",
    "# files = glob.glob('./data/*.jpg')"
   ]
  },
  {
   "cell_type": "code",
   "execution_count": 20,
   "metadata": {},
   "outputs": [],
   "source": [
    "# len(files)"
   ]
  },
  {
   "cell_type": "code",
   "execution_count": 38,
   "metadata": {},
   "outputs": [],
   "source": [
    "import pandas as pd"
   ]
  },
  {
   "cell_type": "code",
   "execution_count": 22,
   "metadata": {},
   "outputs": [],
   "source": [
    "df = pd.DataFrame()"
   ]
  },
  {
   "cell_type": "code",
   "execution_count": 24,
   "metadata": {},
   "outputs": [],
   "source": [
    "# df['files'] = files"
   ]
  },
  {
   "cell_type": "code",
   "execution_count": 21,
   "metadata": {},
   "outputs": [
    {
     "data": {
      "text/html": [
       "<div>\n",
       "<style scoped>\n",
       "    .dataframe tbody tr th:only-of-type {\n",
       "        vertical-align: middle;\n",
       "    }\n",
       "\n",
       "    .dataframe tbody tr th {\n",
       "        vertical-align: top;\n",
       "    }\n",
       "\n",
       "    .dataframe thead th {\n",
       "        text-align: right;\n",
       "    }\n",
       "</style>\n",
       "<table border=\"1\" class=\"dataframe\">\n",
       "  <thead>\n",
       "    <tr style=\"text-align: right;\">\n",
       "      <th></th>\n",
       "      <th>files</th>\n",
       "    </tr>\n",
       "  </thead>\n",
       "  <tbody>\n",
       "    <tr>\n",
       "      <th>0</th>\n",
       "      <td>./data/dog.8011.jpg</td>\n",
       "    </tr>\n",
       "    <tr>\n",
       "      <th>1</th>\n",
       "      <td>./data/cat.5077.jpg</td>\n",
       "    </tr>\n",
       "    <tr>\n",
       "      <th>2</th>\n",
       "      <td>./data/dog.7322.jpg</td>\n",
       "    </tr>\n",
       "    <tr>\n",
       "      <th>3</th>\n",
       "      <td>./data/cat.2718.jpg</td>\n",
       "    </tr>\n",
       "    <tr>\n",
       "      <th>4</th>\n",
       "      <td>./data/cat.10151.jpg</td>\n",
       "    </tr>\n",
       "  </tbody>\n",
       "</table>\n",
       "</div>"
      ],
      "text/plain": [
       "                  files\n",
       "0   ./data/dog.8011.jpg\n",
       "1   ./data/cat.5077.jpg\n",
       "2   ./data/dog.7322.jpg\n",
       "3   ./data/cat.2718.jpg\n",
       "4  ./data/cat.10151.jpg"
      ]
     },
     "execution_count": 21,
     "metadata": {},
     "output_type": "execute_result"
    }
   ],
   "source": [
    "df.head()"
   ]
  },
  {
   "cell_type": "code",
   "execution_count": 22,
   "metadata": {},
   "outputs": [],
   "source": [
    "df['y'] = df['files'].str.contains('dog', regex=False)"
   ]
  },
  {
   "cell_type": "code",
   "execution_count": 23,
   "metadata": {},
   "outputs": [
    {
     "data": {
      "text/html": [
       "<div>\n",
       "<style scoped>\n",
       "    .dataframe tbody tr th:only-of-type {\n",
       "        vertical-align: middle;\n",
       "    }\n",
       "\n",
       "    .dataframe tbody tr th {\n",
       "        vertical-align: top;\n",
       "    }\n",
       "\n",
       "    .dataframe thead th {\n",
       "        text-align: right;\n",
       "    }\n",
       "</style>\n",
       "<table border=\"1\" class=\"dataframe\">\n",
       "  <thead>\n",
       "    <tr style=\"text-align: right;\">\n",
       "      <th></th>\n",
       "      <th>files</th>\n",
       "      <th>y</th>\n",
       "    </tr>\n",
       "  </thead>\n",
       "  <tbody>\n",
       "    <tr>\n",
       "      <th>0</th>\n",
       "      <td>./data/dog.8011.jpg</td>\n",
       "      <td>True</td>\n",
       "    </tr>\n",
       "    <tr>\n",
       "      <th>1</th>\n",
       "      <td>./data/cat.5077.jpg</td>\n",
       "      <td>False</td>\n",
       "    </tr>\n",
       "    <tr>\n",
       "      <th>2</th>\n",
       "      <td>./data/dog.7322.jpg</td>\n",
       "      <td>True</td>\n",
       "    </tr>\n",
       "    <tr>\n",
       "      <th>3</th>\n",
       "      <td>./data/cat.2718.jpg</td>\n",
       "      <td>False</td>\n",
       "    </tr>\n",
       "    <tr>\n",
       "      <th>4</th>\n",
       "      <td>./data/cat.10151.jpg</td>\n",
       "      <td>False</td>\n",
       "    </tr>\n",
       "  </tbody>\n",
       "</table>\n",
       "</div>"
      ],
      "text/plain": [
       "                  files      y\n",
       "0   ./data/dog.8011.jpg   True\n",
       "1   ./data/cat.5077.jpg  False\n",
       "2   ./data/dog.7322.jpg   True\n",
       "3   ./data/cat.2718.jpg  False\n",
       "4  ./data/cat.10151.jpg  False"
      ]
     },
     "execution_count": 23,
     "metadata": {},
     "output_type": "execute_result"
    }
   ],
   "source": [
    "df.head()"
   ]
  },
  {
   "cell_type": "code",
   "execution_count": 24,
   "metadata": {},
   "outputs": [],
   "source": [
    "df.to_csv('data.csv', index=False)"
   ]
  },
  {
   "cell_type": "code",
   "execution_count": 42,
   "metadata": {},
   "outputs": [],
   "source": [
    "import pandas as pd\n",
    "from sklearn.linear_model import LogisticRegression"
   ]
  },
  {
   "cell_type": "code",
   "execution_count": 43,
   "metadata": {},
   "outputs": [],
   "source": [
    "LAYER = 'block5_pool'\n",
    "POOL = 'avg'"
   ]
  },
  {
   "cell_type": "code",
   "execution_count": 44,
   "metadata": {},
   "outputs": [
    {
     "data": {
      "text/html": [
       "<div>\n",
       "<style scoped>\n",
       "    .dataframe tbody tr th:only-of-type {\n",
       "        vertical-align: middle;\n",
       "    }\n",
       "\n",
       "    .dataframe tbody tr th {\n",
       "        vertical-align: top;\n",
       "    }\n",
       "\n",
       "    .dataframe thead th {\n",
       "        text-align: right;\n",
       "    }\n",
       "</style>\n",
       "<table border=\"1\" class=\"dataframe\">\n",
       "  <thead>\n",
       "    <tr style=\"text-align: right;\">\n",
       "      <th></th>\n",
       "      <th>files</th>\n",
       "      <th>y</th>\n",
       "    </tr>\n",
       "  </thead>\n",
       "  <tbody>\n",
       "    <tr>\n",
       "      <th>0</th>\n",
       "      <td>./data/dog.8011.jpg</td>\n",
       "      <td>True</td>\n",
       "    </tr>\n",
       "    <tr>\n",
       "      <th>1</th>\n",
       "      <td>./data/cat.5077.jpg</td>\n",
       "      <td>False</td>\n",
       "    </tr>\n",
       "    <tr>\n",
       "      <th>2</th>\n",
       "      <td>./data/dog.7322.jpg</td>\n",
       "      <td>True</td>\n",
       "    </tr>\n",
       "    <tr>\n",
       "      <th>3</th>\n",
       "      <td>./data/cat.2718.jpg</td>\n",
       "      <td>False</td>\n",
       "    </tr>\n",
       "    <tr>\n",
       "      <th>4</th>\n",
       "      <td>./data/cat.10151.jpg</td>\n",
       "      <td>False</td>\n",
       "    </tr>\n",
       "  </tbody>\n",
       "</table>\n",
       "</div>"
      ],
      "text/plain": [
       "                  files      y\n",
       "0   ./data/dog.8011.jpg   True\n",
       "1   ./data/cat.5077.jpg  False\n",
       "2   ./data/dog.7322.jpg   True\n",
       "3   ./data/cat.2718.jpg  False\n",
       "4  ./data/cat.10151.jpg  False"
      ]
     },
     "execution_count": 44,
     "metadata": {},
     "output_type": "execute_result"
    }
   ],
   "source": [
    "df = pd.read_csv('data.csv')\n",
    "df.head()"
   ]
  },
  {
   "cell_type": "code",
   "execution_count": 95,
   "metadata": {},
   "outputs": [],
   "source": [
    "def process_data(feature_extractor, path):\n",
    "    img = load_img(path)\n",
    "    preds = feature_extractor.predict(img[tf.newaxis, :])\n",
    "    \n",
    "    avgs = [np.mean(p, axis=(1,2))[0] for p in preds]\n",
    "    avgs_keys = [l + '_avg' for l in layers]\n",
    "    \n",
    "    maxs = [np.max(p, axis=(1,2))[0] for p in preds]\n",
    "    maxs_keys = [l + '_max' for l in layers]\n",
    "    return dict(zip(avgs_keys + maxs_keys, avgs + maxs))    "
   ]
  },
  {
   "cell_type": "code",
   "execution_count": 33,
   "metadata": {
    "tags": []
   },
   "outputs": [],
   "source": []
  },
  {
   "cell_type": "code",
   "execution_count": 96,
   "metadata": {},
   "outputs": [],
   "source": [
    "features = Model(inputs=model.input, outputs=[model.get_layer(l).output for l in layers])"
   ]
  },
  {
   "cell_type": "code",
   "execution_count": 97,
   "metadata": {},
   "outputs": [],
   "source": [
    "a = process_data(features, './data/dog.8011.jpg')"
   ]
  },
  {
   "cell_type": "code",
   "execution_count": 98,
   "metadata": {
    "tags": []
   },
   "outputs": [
    {
     "name": "stdout",
     "output_type": "stream",
     "text": [
      "block1_pool_avg (64,)\n",
      "block2_pool_avg (128,)\n",
      "block3_pool_avg (256,)\n",
      "block4_pool_avg (512,)\n",
      "block5_pool_avg (512,)\n",
      "block1_pool_max (64,)\n",
      "block2_pool_max (128,)\n",
      "block3_pool_max (256,)\n",
      "block4_pool_max (512,)\n",
      "block5_pool_max (512,)\n"
     ]
    }
   ],
   "source": [
    "for k in a:\n",
    "    print(k, a[k].shape)"
   ]
  },
  {
   "cell_type": "code",
   "execution_count": 99,
   "metadata": {},
   "outputs": [],
   "source": [
    "from sklearn.model_selection import train_test_split"
   ]
  },
  {
   "cell_type": "code",
   "execution_count": 100,
   "metadata": {},
   "outputs": [],
   "source": [
    "X_train, X_test, y_train, y_test = train_test_split(df['files'], df['y'], train_size=1000)"
   ]
  },
  {
   "cell_type": "code",
   "execution_count": 101,
   "metadata": {},
   "outputs": [
    {
     "data": {
      "text/plain": [
       "(1000,)"
      ]
     },
     "execution_count": 101,
     "metadata": {},
     "output_type": "execute_result"
    }
   ],
   "source": [
    "X_train.shape\n",
    "y_train.shape"
   ]
  },
  {
   "cell_type": "code",
   "execution_count": 102,
   "metadata": {},
   "outputs": [
    {
     "data": {
      "text/plain": [
       "False    505\n",
       "True     495\n",
       "Name: y, dtype: int64"
      ]
     },
     "execution_count": 102,
     "metadata": {},
     "output_type": "execute_result"
    }
   ],
   "source": [
    "y_train.value_counts()"
   ]
  },
  {
   "cell_type": "code",
   "execution_count": 103,
   "metadata": {
    "tags": []
   },
   "outputs": [],
   "source": [
    "feature_vectors = []\n",
    "for x in X_train:\n",
    "    values = process_data(features, x)\n",
    "    feature_vectors.append(values)\n",
    "    "
   ]
  },
  {
   "cell_type": "code",
   "execution_count": 104,
   "metadata": {},
   "outputs": [
    {
     "data": {
      "text/plain": [
       "1000"
      ]
     },
     "execution_count": 104,
     "metadata": {},
     "output_type": "execute_result"
    }
   ],
   "source": [
    "len(feature_vectors)"
   ]
  },
  {
   "cell_type": "code",
   "execution_count": 105,
   "metadata": {},
   "outputs": [],
   "source": [
    "vectors_df = pd.DataFrame(feature_vectors)"
   ]
  },
  {
   "cell_type": "code",
   "execution_count": 106,
   "metadata": {},
   "outputs": [
    {
     "data": {
      "text/html": [
       "<div>\n",
       "<style scoped>\n",
       "    .dataframe tbody tr th:only-of-type {\n",
       "        vertical-align: middle;\n",
       "    }\n",
       "\n",
       "    .dataframe tbody tr th {\n",
       "        vertical-align: top;\n",
       "    }\n",
       "\n",
       "    .dataframe thead th {\n",
       "        text-align: right;\n",
       "    }\n",
       "</style>\n",
       "<table border=\"1\" class=\"dataframe\">\n",
       "  <thead>\n",
       "    <tr style=\"text-align: right;\">\n",
       "      <th></th>\n",
       "      <th>block1_pool_avg</th>\n",
       "      <th>block2_pool_avg</th>\n",
       "      <th>block3_pool_avg</th>\n",
       "      <th>block4_pool_avg</th>\n",
       "      <th>block5_pool_avg</th>\n",
       "      <th>block1_pool_max</th>\n",
       "      <th>block2_pool_max</th>\n",
       "      <th>block3_pool_max</th>\n",
       "      <th>block4_pool_max</th>\n",
       "      <th>block5_pool_max</th>\n",
       "    </tr>\n",
       "  </thead>\n",
       "  <tbody>\n",
       "    <tr>\n",
       "      <th>0</th>\n",
       "      <td>[232.43803, 111.86441, 114.63116, 69.70049, 10...</td>\n",
       "      <td>[550.8669, 302.81857, 240.82935, 572.07416, 16...</td>\n",
       "      <td>[163.54953, 826.91364, 318.92474, 218.27974, 1...</td>\n",
       "      <td>[7.237293, 33.711315, 91.29004, 46.802017, 70....</td>\n",
       "      <td>[0.054669693, 0.34990084, 5.220468, 0.0, 3.832...</td>\n",
       "      <td>[1532.8881, 623.8135, 383.6462, 366.66348, 183...</td>\n",
       "      <td>[3857.636, 4501.8994, 4419.2554, 5512.4546, 20...</td>\n",
       "      <td>[4617.9614, 4674.4004, 6450.3413, 4565.4775, 2...</td>\n",
       "      <td>[256.21313, 828.3305, 665.2178, 1577.9825, 103...</td>\n",
       "      <td>[2.678815, 8.587236, 36.505814, 0.0, 49.224876...</td>\n",
       "    </tr>\n",
       "    <tr>\n",
       "      <th>1</th>\n",
       "      <td>[294.631, 134.24577, 2.829853, 123.9705, 1309....</td>\n",
       "      <td>[200.2058, 462.6417, 335.24124, 819.8253, 149....</td>\n",
       "      <td>[317.4424, 603.2505, 481.95248, 458.0383, 239....</td>\n",
       "      <td>[7.0778255, 33.94589, 94.65074, 24.571453, 20....</td>\n",
       "      <td>[4.868306, 12.291414, 15.248455, 0.0, 12.21828...</td>\n",
       "      <td>[2098.925, 975.886, 336.7371, 551.4925, 2027.6...</td>\n",
       "      <td>[2037.4856, 7046.905, 6817.8193, 9259.778, 298...</td>\n",
       "      <td>[3463.657, 4775.4287, 7660.5615, 6787.7236, 31...</td>\n",
       "      <td>[500.42957, 679.61835, 845.0152, 639.233, 592....</td>\n",
       "      <td>[65.51491, 160.98589, 82.702286, 0.0, 119.8859...</td>\n",
       "    </tr>\n",
       "    <tr>\n",
       "      <th>2</th>\n",
       "      <td>[209.50548, 126.316536, 221.24706, 76.084045, ...</td>\n",
       "      <td>[214.75456, 284.5005, 210.76225, 595.37885, 75...</td>\n",
       "      <td>[169.68027, 529.8136, 208.36688, 92.062935, 45...</td>\n",
       "      <td>[13.054252, 31.958807, 66.686386, 18.833864, 7...</td>\n",
       "      <td>[1.850535, 4.7587934, 6.931901, 0.0, 4.100008,...</td>\n",
       "      <td>[1749.6357, 542.82874, 809.092, 473.13736, 189...</td>\n",
       "      <td>[1764.8684, 4686.0415, 4429.3525, 4371.765, 13...</td>\n",
       "      <td>[3662.009, 2686.1162, 3969.7754, 2326.9268, 23...</td>\n",
       "      <td>[620.13275, 1119.0118, 659.8493, 629.28015, 24...</td>\n",
       "      <td>[47.7252, 100.31574, 118.86117, 0.0, 53.181255...</td>\n",
       "    </tr>\n",
       "    <tr>\n",
       "      <th>3</th>\n",
       "      <td>[275.726, 120.23607, 57.588947, 123.55803, 971...</td>\n",
       "      <td>[232.26418, 404.92398, 322.72388, 669.58966, 1...</td>\n",
       "      <td>[368.4057, 935.235, 358.93607, 652.0451, 141.0...</td>\n",
       "      <td>[5.744563, 123.19941, 71.736206, 14.512931, 11...</td>\n",
       "      <td>[4.83798, 0.0, 2.330783, 1.620902, 5.6983395, ...</td>\n",
       "      <td>[2022.8408, 910.29285, 423.12793, 556.22217, 1...</td>\n",
       "      <td>[1889.0115, 5470.5747, 5224.774, 6354.448, 227...</td>\n",
       "      <td>[2642.9392, 6637.952, 11831.7, 7009.264, 3025....</td>\n",
       "      <td>[390.8073, 1165.059, 839.5464, 321.54626, 621....</td>\n",
       "      <td>[31.06264, 0.0, 23.12342, 34.777344, 43.826744...</td>\n",
       "    </tr>\n",
       "    <tr>\n",
       "      <th>4</th>\n",
       "      <td>[200.40477, 132.74019, 122.81338, 497.40533, 1...</td>\n",
       "      <td>[207.37444, 384.6086, 311.6742, 740.42004, 316...</td>\n",
       "      <td>[205.61017, 487.30756, 404.11234, 396.60376, 1...</td>\n",
       "      <td>[11.496488, 20.044012, 36.549664, 27.062574, 8...</td>\n",
       "      <td>[1.4933167, 1.3658535, 6.551396, 0.0, 6.182544...</td>\n",
       "      <td>[1645.4377, 541.7472, 1451.4487, 1108.017, 201...</td>\n",
       "      <td>[2346.3557, 5544.132, 3423.0166, 8201.541, 228...</td>\n",
       "      <td>[2967.54, 2882.5479, 6661.954, 4149.636, 2376....</td>\n",
       "      <td>[541.8059, 338.3957, 576.7407, 899.3213, 735.6...</td>\n",
       "      <td>[34.188293, 29.793888, 46.546776, 0.0, 59.5633...</td>\n",
       "    </tr>\n",
       "  </tbody>\n",
       "</table>\n",
       "</div>"
      ],
      "text/plain": [
       "                                     block1_pool_avg  \\\n",
       "0  [232.43803, 111.86441, 114.63116, 69.70049, 10...   \n",
       "1  [294.631, 134.24577, 2.829853, 123.9705, 1309....   \n",
       "2  [209.50548, 126.316536, 221.24706, 76.084045, ...   \n",
       "3  [275.726, 120.23607, 57.588947, 123.55803, 971...   \n",
       "4  [200.40477, 132.74019, 122.81338, 497.40533, 1...   \n",
       "\n",
       "                                     block2_pool_avg  \\\n",
       "0  [550.8669, 302.81857, 240.82935, 572.07416, 16...   \n",
       "1  [200.2058, 462.6417, 335.24124, 819.8253, 149....   \n",
       "2  [214.75456, 284.5005, 210.76225, 595.37885, 75...   \n",
       "3  [232.26418, 404.92398, 322.72388, 669.58966, 1...   \n",
       "4  [207.37444, 384.6086, 311.6742, 740.42004, 316...   \n",
       "\n",
       "                                     block3_pool_avg  \\\n",
       "0  [163.54953, 826.91364, 318.92474, 218.27974, 1...   \n",
       "1  [317.4424, 603.2505, 481.95248, 458.0383, 239....   \n",
       "2  [169.68027, 529.8136, 208.36688, 92.062935, 45...   \n",
       "3  [368.4057, 935.235, 358.93607, 652.0451, 141.0...   \n",
       "4  [205.61017, 487.30756, 404.11234, 396.60376, 1...   \n",
       "\n",
       "                                     block4_pool_avg  \\\n",
       "0  [7.237293, 33.711315, 91.29004, 46.802017, 70....   \n",
       "1  [7.0778255, 33.94589, 94.65074, 24.571453, 20....   \n",
       "2  [13.054252, 31.958807, 66.686386, 18.833864, 7...   \n",
       "3  [5.744563, 123.19941, 71.736206, 14.512931, 11...   \n",
       "4  [11.496488, 20.044012, 36.549664, 27.062574, 8...   \n",
       "\n",
       "                                     block5_pool_avg  \\\n",
       "0  [0.054669693, 0.34990084, 5.220468, 0.0, 3.832...   \n",
       "1  [4.868306, 12.291414, 15.248455, 0.0, 12.21828...   \n",
       "2  [1.850535, 4.7587934, 6.931901, 0.0, 4.100008,...   \n",
       "3  [4.83798, 0.0, 2.330783, 1.620902, 5.6983395, ...   \n",
       "4  [1.4933167, 1.3658535, 6.551396, 0.0, 6.182544...   \n",
       "\n",
       "                                     block1_pool_max  \\\n",
       "0  [1532.8881, 623.8135, 383.6462, 366.66348, 183...   \n",
       "1  [2098.925, 975.886, 336.7371, 551.4925, 2027.6...   \n",
       "2  [1749.6357, 542.82874, 809.092, 473.13736, 189...   \n",
       "3  [2022.8408, 910.29285, 423.12793, 556.22217, 1...   \n",
       "4  [1645.4377, 541.7472, 1451.4487, 1108.017, 201...   \n",
       "\n",
       "                                     block2_pool_max  \\\n",
       "0  [3857.636, 4501.8994, 4419.2554, 5512.4546, 20...   \n",
       "1  [2037.4856, 7046.905, 6817.8193, 9259.778, 298...   \n",
       "2  [1764.8684, 4686.0415, 4429.3525, 4371.765, 13...   \n",
       "3  [1889.0115, 5470.5747, 5224.774, 6354.448, 227...   \n",
       "4  [2346.3557, 5544.132, 3423.0166, 8201.541, 228...   \n",
       "\n",
       "                                     block3_pool_max  \\\n",
       "0  [4617.9614, 4674.4004, 6450.3413, 4565.4775, 2...   \n",
       "1  [3463.657, 4775.4287, 7660.5615, 6787.7236, 31...   \n",
       "2  [3662.009, 2686.1162, 3969.7754, 2326.9268, 23...   \n",
       "3  [2642.9392, 6637.952, 11831.7, 7009.264, 3025....   \n",
       "4  [2967.54, 2882.5479, 6661.954, 4149.636, 2376....   \n",
       "\n",
       "                                     block4_pool_max  \\\n",
       "0  [256.21313, 828.3305, 665.2178, 1577.9825, 103...   \n",
       "1  [500.42957, 679.61835, 845.0152, 639.233, 592....   \n",
       "2  [620.13275, 1119.0118, 659.8493, 629.28015, 24...   \n",
       "3  [390.8073, 1165.059, 839.5464, 321.54626, 621....   \n",
       "4  [541.8059, 338.3957, 576.7407, 899.3213, 735.6...   \n",
       "\n",
       "                                     block5_pool_max  \n",
       "0  [2.678815, 8.587236, 36.505814, 0.0, 49.224876...  \n",
       "1  [65.51491, 160.98589, 82.702286, 0.0, 119.8859...  \n",
       "2  [47.7252, 100.31574, 118.86117, 0.0, 53.181255...  \n",
       "3  [31.06264, 0.0, 23.12342, 34.777344, 43.826744...  \n",
       "4  [34.188293, 29.793888, 46.546776, 0.0, 59.5633...  "
      ]
     },
     "execution_count": 106,
     "metadata": {},
     "output_type": "execute_result"
    }
   ],
   "source": [
    "vectors_df.head()"
   ]
  },
  {
   "cell_type": "code",
   "execution_count": 136,
   "metadata": {},
   "outputs": [
    {
     "data": {
      "text/plain": [
       "LogisticRegression(C=1.0, class_weight=None, dual=False, fit_intercept=True,\n",
       "                   intercept_scaling=1, l1_ratio=None, max_iter=100,\n",
       "                   multi_class='warn', n_jobs=None, penalty='l2',\n",
       "                   random_state=None, solver='warn', tol=0.0001, verbose=0,\n",
       "                   warm_start=False)"
      ]
     },
     "execution_count": 136,
     "metadata": {},
     "output_type": "execute_result"
    }
   ],
   "source": [
    "X_block5_pool_avg = np.vstack(vectors_df['block5_pool_avg'].to_list())\n",
    "log_reg = LogisticRegression()\n",
    "log_reg.fit(X_block5_pool_avg, y_train)"
   ]
  },
  {
   "cell_type": "code",
   "execution_count": 138,
   "metadata": {},
   "outputs": [],
   "source": [
    "y_pred = log_reg.predict(X_block5_pool_avg)"
   ]
  },
  {
   "cell_type": "code",
   "execution_count": 142,
   "metadata": {},
   "outputs": [],
   "source": [
    "from sklearn.metrics import accuracy_score, classification_report"
   ]
  },
  {
   "cell_type": "code",
   "execution_count": 143,
   "metadata": {},
   "outputs": [
    {
     "data": {
      "text/plain": [
       "1.0"
      ]
     },
     "execution_count": 143,
     "metadata": {},
     "output_type": "execute_result"
    }
   ],
   "source": [
    "accuracy_score(y_train, y_pred)"
   ]
  },
  {
   "cell_type": "code",
   "execution_count": 150,
   "metadata": {
    "tags": []
   },
   "outputs": [
    {
     "name": "stdout",
     "output_type": "stream",
     "text": [
      "precision    recall  f1-score   support\n",
      "\n",
      "       False       1.00      1.00      1.00       505\n",
      "        True       1.00      1.00      1.00       495\n",
      "\n",
      "    accuracy                           1.00      1000\n",
      "   macro avg       1.00      1.00      1.00      1000\n",
      "weighted avg       1.00      1.00      1.00      1000\n",
      "\n"
     ]
    }
   ],
   "source": [
    "r = classification_report(y_train, y_pred)\n",
    "print(r)"
   ]
  },
  {
   "cell_type": "code",
   "execution_count": null,
   "metadata": {},
   "outputs": [],
   "source": []
  }
 ],
 "metadata": {
  "kernelspec": {
   "display_name": "Python 3",
   "language": "python",
   "name": "python3"
  },
  "language_info": {
   "codemirror_mode": {
    "name": "ipython",
    "version": 3
   },
   "file_extension": ".py",
   "mimetype": "text/x-python",
   "name": "python",
   "nbconvert_exporter": "python",
   "pygments_lexer": "ipython3",
   "version": "3.7.3"
  }
 },
 "nbformat": 4,
 "nbformat_minor": 2
}
